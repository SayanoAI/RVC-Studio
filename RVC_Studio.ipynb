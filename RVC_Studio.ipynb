{
  "nbformat": 4,
  "nbformat_minor": 0,
  "metadata": {
    "colab": {
      "provenance": []
    },
    "kernelspec": {
      "name": "python3",
      "display_name": "Python 3"
    },
    "language_info": {
      "name": "python"
    }
  },
  "cells": [
    {
      "cell_type": "code",
      "execution_count": null,
      "metadata": {
        "cellView": "form",
        "id": "D5kUN4uWdQm1"
      },
      "outputs": [],
      "source": [
        "#@title RVC Studio\n",
        "from IPython.display import HTML, clear_output\n",
        "\n",
        "!git clone https://github.com/SayanoAI/RVC-Studio.git\n",
        "%cd RVC-Studio\n",
        "\n",
        "!pip install -r requirements.txt\n",
        "!npm install localtunnel\n",
        "\n",
        "!streamlit run Home.py &>/content/logs.txt &\n",
        "clear_output()\n",
        "\n",
        "print(\"IP:\")\n",
        "!wget -q -O - ipv4.icanhazip.com\n",
        "!npx localtunnel --port 8501"
      ]
    }
  ]
}