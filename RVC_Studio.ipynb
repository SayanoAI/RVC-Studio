{
  "cells": [
    {
      "cell_type": "code",
      "execution_count": null,
      "metadata": {
        "cellView": "form",
        "id": "D5kUN4uWdQm1"
      },
      "outputs": [],
      "source": [
        "#@title RVC Studio\n",
        "from IPython.display import HTML, clear_output\n",
        "\n",
        "!git clone https://github.com/SayanoAI/RVC-Studio.git\n",
        "%cd RVC-Studio\n",
        "\n",
        "!pip install -r requirements.txt\n",
        "!sudo apt-get install libportaudio2\n",
        "!npm install localtunnel\n",
        "\n",
        "!streamlit run Home.py &>/content/logs.txt &\n",
        "clear_output()\n",
        "\n",
        "print(\"IP:\")\n",
        "!wget -q -O - ipv4.icanhazip.com\n",
        "!npx localtunnel --port 8501"
      ]
    }
  ],
  "metadata": {
    "colab": {
      "provenance": []
    },
    "kernelspec": {
      "display_name": "Python 3",
      "name": "python3"
    },
    "language_info": {
      "name": "python"
    }
  },
  "nbformat": 4,
  "nbformat_minor": 0
}
